{
 "cells": [
  {
   "cell_type": "markdown",
   "id": "7383a40a",
   "metadata": {},
   "source": [
    "## [IBM-IISc Workshop on Quantum Computing and Hybrid Clouds](http://iihcl.iisc.ac.in/quantum_workshop_2022.html)"
   ]
  },
  {
   "cell_type": "markdown",
   "id": "ed767265",
   "metadata": {},
   "source": [
    "Day 1: Qiskit Runtime (Libraries and Applications Walkthrough)\n",
    "\n",
    "Presenter: [Rajiv Sangle](https://www.linkedin.com/in/rajiv-sangle/)\n",
    "\n",
    "Affiliations: \n",
    "* IISc Bengaluru (MTech Quantum Technology student)\n",
    "* IBM Research, Bengaluru (Intern)"
   ]
  },
  {
   "cell_type": "markdown",
   "id": "f8260881",
   "metadata": {},
   "source": [
    "Hi everybody! This notebook guides you get started with using the Primtive Programs of Qiskit Runtime.\n",
    "\n",
    "Before you go ahead, do check out these links to get [an overview of Qiskit Runtime][1] and its [installation and setup guide][2].\n",
    "Kindly refer to this notebook along with these [tutorials][3], also this [video](https://www.youtube.com/watch?v=b9mdMye-iVk) if required.\n",
    "\n",
    "[1]: https://quantum-computing.ibm.com/lab/docs/iql/runtime/\n",
    "[2]: https://qiskit.org/documentation/partners/qiskit_ibm_runtime/getting_started.html\n",
    "[3]: https://qiskit.org/documentation/partners/qiskit_ibm_runtime/tutorials.html"
   ]
  },
  {
   "cell_type": "markdown",
   "id": "e49931e8",
   "metadata": {},
   "source": [
    "__General conventions followed in the notebook__:\n",
    "\n",
    "* For any n-qubit bra or ket state, the rightmost qubit the 0th qubit whereas the leftmost qubit is the (n-1)th qubit.\n",
    "\n",
    "\n",
    "* The number subscript of any single-qubit gate sysmbol (like X and H) refers to the qubit index (0 to n-1) on which the single-qubit gate is acting.\n",
    "\n",
    "    Therefore, $X_0$ means that the $X$-gate is acting on the 0th qubit.\n",
    "    \n",
    "    \n",
    "* The left digit in the number subscript of any two-qubit gate sysmbol (like CNOT) refers to the control-qubit index (0 to n-1), whereas the right digit refers to the target-qubit (0 to n-1). The control-qubit index and the target-qubit index are always distinct.\n",
    "\n",
    "    Therfore, $CNOT_{01}$ means that the 0th qubit is the control-qubit and the 1st qubit is the target-qubit for the $CNOT$ gate.\n",
    "    \n",
    "    \n",
    "* If $A$ is an $2 \\times 2$ operator acting on 1-qubit , then $A^{\\otimes n}$ refers to the n-times tensor product of $A$ acting on n-qubits, \n",
    "\n",
    "    i.e. $A^{\\otimes n} = A_{n-1} \\otimes .... \\otimes A_{0}$"
   ]
  },
  {
   "cell_type": "code",
   "execution_count": 402,
   "id": "b41243de",
   "metadata": {},
   "outputs": [],
   "source": [
    "# Necessary imports for creating and executing Qiskit Circuits\n",
    "\n",
    "from qiskit import IBMQ, QuantumCircuit, Aer, execute, transpile\n",
    "\n",
    "from qiskit.circuit import ParameterVector\n",
    "\n",
    "from qiskit.tools.monitor import job_monitor\n",
    "\n",
    "from qiskit.tools.visualization import plot_histogram\n",
    "\n",
    "from qiskit.circuit.library import RealAmplitudes\n",
    "\n",
    "from qiskit.quantum_info import SparsePauliOp"
   ]
  },
  {
   "cell_type": "code",
   "execution_count": 409,
   "id": "def7383c",
   "metadata": {},
   "outputs": [],
   "source": [
    "# Necessary imports for Qiskit Runtime\n",
    "\n",
    "from qiskit_ibm_runtime import QiskitRuntimeService, Sampler, Estimator"
   ]
  },
  {
   "cell_type": "code",
   "execution_count": 312,
   "id": "9c790f75",
   "metadata": {},
   "outputs": [],
   "source": [
    "# numpy imports\n",
    "\n",
    "import numpy as np\n",
    "\n",
    "from numpy.random import uniform\n",
    "from numpy import pi"
   ]
  },
  {
   "cell_type": "code",
   "execution_count": 257,
   "id": "ef31a1be",
   "metadata": {},
   "outputs": [],
   "source": [
    "# other required imports\n",
    "\n",
    "import time"
   ]
  },
  {
   "cell_type": "markdown",
   "id": "fe35ecc2",
   "metadata": {},
   "source": [
    "Copy your IBM Quantum __API token__ from [here](https://quantum-computing.ibm.com/account). \n",
    "\n",
    "Now replace the string \"YOUR_IBM_QUANTUM_TOKEN\" below with your API token as a string (meaning put your API token in double quotes)."
   ]
  },
  {
   "cell_type": "code",
   "execution_count": 65,
   "id": "00405863",
   "metadata": {},
   "outputs": [],
   "source": [
    "IBMQ.save_account(token=\"YOUR_IBM_QUANTUM_TOKEN\", overwrite=True)"
   ]
  },
  {
   "cell_type": "code",
   "execution_count": 66,
   "id": "17701c51",
   "metadata": {},
   "outputs": [
    {
     "name": "stderr",
     "output_type": "stream",
     "text": [
      "ibmqfactory.load_account:WARNING:2022-06-27 22:29:45,674: Credentials are already in use. The existing account in the session will be replaced.\n"
     ]
    },
    {
     "data": {
      "text/plain": [
       "<AccountProvider for IBMQ(hub='ibm-q', group='open', project='main')>"
      ]
     },
     "execution_count": 66,
     "metadata": {},
     "output_type": "execute_result"
    }
   ],
   "source": [
    "IBMQ.load_account()"
   ]
  },
  {
   "cell_type": "markdown",
   "id": "a682a9c1",
   "metadata": {},
   "source": [
    "Copy your IBM Quantum __API token__ from [here](https://quantum-computing.ibm.com/account). \n",
    "\n",
    "Now replace the string \"YOUR_IBM_QUANTUM_TOKEN\" below with your API token as a string (meaning put your API token in double quotes)."
   ]
  },
  {
   "cell_type": "code",
   "execution_count": 107,
   "id": "ce806cb5",
   "metadata": {},
   "outputs": [],
   "source": [
    "QiskitRuntimeService.save_account(channel=\"ibm_quantum\", token=\"YOUR_API_TOKEN\", overwrite=True)"
   ]
  },
  {
   "cell_type": "markdown",
   "id": "e09b2c33",
   "metadata": {},
   "source": [
    "For this workshop, you have been given priority access to the 5-qubit 'ibmq_manila' machine.\n",
    "\n",
    "However, feel free to use any other backend (simulator or system) of your choice!\n",
    "\n",
    "Check your Access __Providers__ and corresponding __Services__ (simulators and systems) [here](https://quantum-computing.ibm.com/account) :)"
   ]
  },
  {
   "cell_type": "code",
   "execution_count": 435,
   "id": "fcc548a4",
   "metadata": {},
   "outputs": [],
   "source": [
    "provider_name = 'ibm-q-community'\n",
    "provider = IBMQ.get_provider(hub=provider_name, group='iisc-hackathon', project='main'))"
   ]
  },
  {
   "cell_type": "code",
   "execution_count": 436,
   "id": "d4c5b2ac",
   "metadata": {
    "scrolled": true
   },
   "outputs": [
    {
     "name": "stdout",
     "output_type": "stream",
     "text": [
      "List of backends (simulators and systems) offered by the Provider ibm-q :\n",
      "\n",
      "simulator: ibmq_qasm_simulator\n",
      "system: ibmq_armonk\n",
      "system: ibmq_lima\n",
      "system: ibmq_belem\n",
      "system: ibmq_quito\n",
      "simulator: simulator_statevector\n",
      "simulator: simulator_mps\n",
      "simulator: simulator_extended_stabilizer\n",
      "simulator: simulator_stabilizer\n",
      "system: ibmq_manila\n",
      "system: ibm_nairobi\n",
      "system: ibm_oslo\n"
     ]
    }
   ],
   "source": [
    "print(\"List of backends (simulators and systems) offered by the Provider\", provider_name, \":\\n\")\n",
    "for backend in provider.backends():\n",
    "    print(\"simulator:\" if backend.configuration().simulator else \"system:\", backend)"
   ]
  },
  {
   "cell_type": "markdown",
   "id": "73b99dd0",
   "metadata": {},
   "source": [
    "We use the standard __Bell circuits__ for $|\\Phi^{+}\\rangle$ and $|\\Psi^{-}\\rangle$ to get started with this demonstration."
   ]
  },
  {
   "cell_type": "markdown",
   "id": "a376342f",
   "metadata": {},
   "source": [
    "1. Circuit for the state $|\\Phi^{+}\\rangle$:"
   ]
  },
  {
   "cell_type": "code",
   "execution_count": 89,
   "id": "668d6b07",
   "metadata": {},
   "outputs": [
    {
     "data": {
      "image/png": "[encoded data removed]",
      "text/plain": [
       "<Figure size 417.879x204.68 with 1 Axes>"
      ]
     },
     "execution_count": 89,
     "metadata": {},
     "output_type": "execute_result"
    }
   ],
   "source": [
    "bell_phi_plus = QuantumCircuit(2, name=\"bell_phi_plus\")\n",
    "bell_phi_plus.h(0)\n",
    "bell_phi_plus.cx(0, 1)\n",
    "bell_phi_plus.measure_all()\n",
    "\n",
    "bell_phi_plus.draw(output='mpl')"
   ]
  },
  {
   "cell_type": "markdown",
   "id": "159f45c7",
   "metadata": {},
   "source": [
    "__Before measurement:__\n",
    "\n",
    "$|\\Phi^{+}\\rangle = |q_{1} q_{0} \\rangle = (CNOT_{01})(I_1 \\otimes H_0)|00\\rangle $\n",
    "\n",
    "$\\implies |\\Phi^{+}\\rangle = |q_{1} q_{0} \\rangle = (CNOT_{01})\\bigg(|0\\rangle \\otimes \\frac{|0\\rangle + |1\\rangle}{\\sqrt2}\\bigg)$\n",
    "\n",
    "### $\\implies |\\Phi^{+}\\rangle = \\frac{|00 \\rangle + |11 \\rangle}{\\sqrt{2}}$\n",
    "\n",
    "__After measurement:__\n",
    "\n",
    "Equal probability (50%) of measuring either the state $|00\\rangle$ or the state $|11\\rangle$."
   ]
  },
  {
   "cell_type": "markdown",
   "id": "d78f2844",
   "metadata": {},
   "source": [
    "2. Circuit for the state $|\\Psi^{-}\\rangle$:"
   ]
  },
  {
   "cell_type": "code",
   "execution_count": 90,
   "id": "75cc557c",
   "metadata": {},
   "outputs": [
    {
     "data": {
      "image/png": "[encoded data removed]",
      "text/plain": [
       "<Figure size 478.079x204.68 with 1 Axes>"
      ]
     },
     "execution_count": 90,
     "metadata": {},
     "output_type": "execute_result"
    }
   ],
   "source": [
    "bell_psi_minus = QuantumCircuit(2, name=\"bell_psi_minus\")\n",
    "bell_psi_minus.x([0,1])\n",
    "bell_psi_minus.h(0)\n",
    "bell_psi_minus.cx(0, 1)\n",
    "bell_psi_minus.measure_all()\n",
    "\n",
    "bell_psi_minus.draw(output='mpl')"
   ]
  },
  {
   "cell_type": "markdown",
   "id": "82150152",
   "metadata": {},
   "source": [
    "__Before measurement:__\n",
    "\n",
    "$|\\Psi^{-}\\rangle = |q_{1} q_{0} \\rangle = (CNOT_{01})(I_1 \\otimes H_0)(X_1 \\otimes X_0)|00\\rangle$\n",
    "\n",
    "$\\implies |\\Psi^{-}\\rangle = |q_{1} q_{0} \\rangle = (CNOT_{01})(I_1 \\otimes H_0)|11\\rangle$ \n",
    "\n",
    "$ \\implies|\\Psi^{-}\\rangle = |q_{1} q_{0} \\rangle = (CNOT_{01})\\bigg(|1\\rangle \\otimes \\frac{|0\\rangle - |1\\rangle}{\\sqrt2}\\bigg)$\n",
    "\n",
    "### $\\implies |\\Psi^{-}\\rangle = (-1)\\frac{|01 \\rangle - |10 \\rangle}{\\sqrt{2}}$\n",
    "\n",
    "__After measurement:__\n",
    "\n",
    "Equal probability (50%) of measuring either the state $|01\\rangle$ or the state $|10\\rangle$."
   ]
  },
  {
   "cell_type": "markdown",
   "id": "4c98dd3a",
   "metadata": {},
   "source": [
    "### Running Quantum Circuits the \"traditional\" way ..."
   ]
  },
  {
   "cell_type": "code",
   "execution_count": 138,
   "id": "4fd0b5c6",
   "metadata": {},
   "outputs": [],
   "source": [
    "backends = ['ibmq_qasm_simulator', \n",
    "            'ibmq_manila']"
   ]
  },
  {
   "cell_type": "code",
   "execution_count": 116,
   "id": "c7a6c963",
   "metadata": {},
   "outputs": [
    {
     "name": "stdout",
     "output_type": "stream",
     "text": [
      "Circuit 0 is bell_phi_plus \n",
      "\n",
      "Circuit 1 is bell_psi_minus \n",
      "\n",
      "Job Status: job has successfully run\n"
     ]
    }
   ],
   "source": [
    "# Creating a list of circuits we want to run\n",
    "circuits = [bell_phi_plus, bell_psi_minus]\n",
    "\n",
    "circuit_index = 0\n",
    "for circuit in circuits:\n",
    "    print(\"Circuit\", circuit_index, \"is\", circuit.name, \"\\n\")\n",
    "    \n",
    "    circuit_index += 1\n",
    "    \n",
    "# Choosing the backend and specifying number of shots\n",
    "backend = provider.get_backend(backends[1])\n",
    "shots = 1024\n",
    "\n",
    "# Executing the job.\n",
    "# A 'job' refers to the execution workflow for the specified circuit(s) \n",
    "# on the specified backend, OR a collection of iterative calls to the quantum computer.\n",
    "\n",
    "job = execute(experiments=circuits, backend=backend, shots=shots)\n",
    "\n",
    "job_monitor(job)"
   ]
  },
  {
   "cell_type": "code",
   "execution_count": 117,
   "id": "22d3e55e",
   "metadata": {},
   "outputs": [],
   "source": [
    "# Storing the result of the job\n",
    "result = job.result()\n",
    "\n",
    "# Extracting the counts from the result\n",
    "counts = result.get_counts()"
   ]
  },
  {
   "cell_type": "markdown",
   "id": "e90ffabe",
   "metadata": {},
   "source": [
    "You can check the status and detailed information of all your __Circuit jobs__ [here](https://quantum-computing.ibm.com/jobs?jobs=circuit)!"
   ]
  },
  {
   "cell_type": "code",
   "execution_count": 118,
   "id": "ddb8ff67",
   "metadata": {},
   "outputs": [
    {
     "name": "stdout",
     "output_type": "stream",
     "text": [
      "Counts for Circuit 0 :\n",
      "{'00': 475, '01': 52, '10': 10, '11': 487} \n",
      "\n",
      "Counts for Circuit 1 :\n",
      "{'00': 11, '01': 499, '10': 478, '11': 36} \n",
      "\n"
     ]
    }
   ],
   "source": [
    "# Printing the measurement counts for the circuits executed\n",
    "\n",
    "circuit_index = 0\n",
    "for circuit_counts in counts:\n",
    "    print(\"Counts for Circuit\", circuit_index, \":\")\n",
    "    print(circuit_counts, \"\\n\")\n",
    "    \n",
    "    circuit_index += 1"
   ]
  },
  {
   "cell_type": "code",
   "execution_count": 119,
   "id": "5859ba5d",
   "metadata": {},
   "outputs": [
    {
     "data": {
      "image/png": "[encoded data removed]",
      "text/plain": [
       "<Figure size 504x360 with 1 Axes>"
      ]
     },
     "execution_count": 119,
     "metadata": {},
     "output_type": "execute_result"
    }
   ],
   "source": [
    "plot_histogram(counts[0], color='c', title=\"Quasi-Probability distribution for circuit \" + circuits[0].name)"
   ]
  },
  {
   "cell_type": "code",
   "execution_count": 120,
   "id": "11b32fc3",
   "metadata": {},
   "outputs": [
    {
     "data": {
      "image/png": "[encoded data removed]",
      "text/plain": [
       "<Figure size 504x360 with 1 Axes>"
      ]
     },
     "execution_count": 120,
     "metadata": {},
     "output_type": "execute_result"
    }
   ],
   "source": [
    "plot_histogram(counts[1], color='skyblue', title=\"Quasi-Probability distribution for circuit \" + circuits[1].name)"
   ]
  },
  {
   "cell_type": "markdown",
   "id": "9553bed5",
   "metadata": {},
   "source": [
    "### Running Quantum Circuits the \"Qiskit Runtime\" way ... !"
   ]
  },
  {
   "cell_type": "markdown",
   "id": "9020257a",
   "metadata": {},
   "source": [
    "Check out the Runtime Services or __Programs__ (both Primitive and Experimental) in [IBM Quantum Services](https://quantum-computing.ibm.com/services?services=runtime)."
   ]
  },
  {
   "cell_type": "markdown",
   "id": "c695fe5b",
   "metadata": {},
   "source": [
    "*_A 'primitive', in general, is some abstract structure that can be used as a standard approach to solving a problem._"
   ]
  },
  {
   "cell_type": "markdown",
   "id": "5bb8cc40",
   "metadata": {},
   "source": [
    "IBM Qiskit has defined the [Sampler Primitive](https://quantum-computing.ibm.com/services?services=runtime&program=sampler) and the [Estimator Primitive](https://quantum-computing.ibm.com/services?services=runtime&program=estimator) for the optimized execution of certain classes of workloads."
   ]
  },
  {
   "cell_type": "markdown",
   "id": "66b0b224",
   "metadata": {},
   "source": [
    "#### [The Sampler Primitive](https://quantum-computing.ibm.com/services?services=runtime&program=sampler)\n",
    "__Returns the quasi-probability distribution from the measurement outcomes (samplings) of quantum circuits.__\n",
    "\n",
    "Therefore, __any circuit executed using the Sampler Primitve must explicitly have the measure instructions on all the qubits__."
   ]
  },
  {
   "cell_type": "code",
   "execution_count": 108,
   "id": "38560e5d",
   "metadata": {},
   "outputs": [],
   "source": [
    "service = QiskitRuntimeService()"
   ]
  },
  {
   "cell_type": "code",
   "execution_count": 348,
   "id": "06d5cea5",
   "metadata": {},
   "outputs": [],
   "source": [
    "backends = ['ibmq_qasm_simulator',\n",
    "            'ibmq_manila']"
   ]
  },
  {
   "cell_type": "code",
   "execution_count": 349,
   "id": "6064efc1",
   "metadata": {},
   "outputs": [
    {
     "name": "stdout",
     "output_type": "stream",
     "text": [
      "Circuit 0 is bell_phi_plus \n",
      "\n",
      "Circuit 1 is bell_psi_minus \n",
      "\n"
     ]
    }
   ],
   "source": [
    "# Creating a list of circuits we want to run\n",
    "circuits = [bell_phi_plus, bell_psi_minus]\n",
    "\n",
    "circuit_index = 0\n",
    "for circuit in circuits:\n",
    "    print(\"Circuit\", circuit_index, \"is\", circuit.name, \"\\n\")\n",
    "    \n",
    "    circuit_index += 1\n",
    "    \n",
    "# Creating a list of circuit indices to run\n",
    "# Here we are running 'Circuit 0' then 'Circuit 1'\n",
    "circuit_indices = [0, 1]\n",
    "    \n",
    "# Choosing the backend and specifying number of shots\n",
    "backend = backends[1]\n",
    "shots = 1024\n",
    "\n",
    "# executing the bell_phi_plus circuit\n",
    "\n",
    "with Sampler(circuits=circuits, service=service, options={ \"backend\": backend}) as sampler:\n",
    "    # pass indices of circuits\n",
    "    result = sampler(circuits=circuit_indices, shots=shots)\n",
    "    # print(result)"
   ]
  },
  {
   "cell_type": "markdown",
   "id": "654e6584",
   "metadata": {},
   "source": [
    "You can check the status and detailed information of all your Runtime or __Program jobs__ [here](https://quantum-computing.ibm.com/jobs?jobs=runtime)!"
   ]
  },
  {
   "cell_type": "code",
   "execution_count": 350,
   "id": "45fb55b1",
   "metadata": {},
   "outputs": [],
   "source": [
    "counts = result.quasi_dists"
   ]
  },
  {
   "cell_type": "code",
   "execution_count": 351,
   "id": "41ada351",
   "metadata": {},
   "outputs": [
    {
     "name": "stdout",
     "output_type": "stream",
     "text": [
      "Counts for Circuit 0 :\n",
      "{'00': 0.5009765625, '01': 0.0185546875, '10': 0.0439453125, '11': 0.4365234375} \n",
      "\n",
      "Counts for Circuit 1 :\n",
      "{'00': 0.048828125, '01': 0.474609375, '10': 0.4462890625, '11': 0.0302734375} \n",
      "\n"
     ]
    }
   ],
   "source": [
    "# Printing the measurement counts for the circuits executed\n",
    "\n",
    "circuit_index = 0\n",
    "for circuit_counts in counts:\n",
    "    print(\"Counts for Circuit\", circuit_index, \":\")\n",
    "    print(circuit_counts, \"\\n\")\n",
    "    \n",
    "    circuit_index += 1"
   ]
  },
  {
   "cell_type": "code",
   "execution_count": 352,
   "id": "78804482",
   "metadata": {},
   "outputs": [
    {
     "data": {
      "image/png": "[encoded data removed]",
      "text/plain": [
       "<Figure size 504x360 with 1 Axes>"
      ]
     },
     "execution_count": 352,
     "metadata": {},
     "output_type": "execute_result"
    }
   ],
   "source": [
    "plot_histogram(counts[0], color='c', title=\"Quasi-Probability distribution for circuit \" + circuits[0].name)"
   ]
  },
  {
   "cell_type": "code",
   "execution_count": 353,
   "id": "45ce762b",
   "metadata": {},
   "outputs": [
    {
     "data": {
      "image/png": "[encoded data removed]",
      "text/plain": [
       "<Figure size 504x360 with 1 Axes>"
      ]
     },
     "execution_count": 353,
     "metadata": {},
     "output_type": "execute_result"
    }
   ],
   "source": [
    "plot_histogram(counts[1], color='skyblue', title=\"Quasi-Probability distribution for circuit \" + circuits[1].name)"
   ]
  },
  {
   "cell_type": "markdown",
   "id": "0050d928",
   "metadata": {},
   "source": [
    "#### Demonstrating speedup offered by the Sampler Primitive ... !\n",
    "We can show that for large workloads, quasi-probability distribution results are obtained significantly faster using Qiskit Runtime's efficient Sampler Primitive as compared to iteratively submitting quantum circuits over the cloud."
   ]
  },
  {
   "cell_type": "markdown",
   "id": "44a13a5e",
   "metadata": {},
   "source": [
    "The two circuits defined below are the 'Circuit 5' and 'Circuit 6' in [this paper](https://arxiv.org/abs/1905.10876).\n",
    "\n",
    "One of the features to look for in Quantum Machine Learning applications is to see how _'expressible'_ a Parameterized Quantum Circuit (PQC) is.\n",
    "\n",
    "Crudly, by _'expressible'_ we mean to say to what extent is a PQC of n-qubits able to explore the $2^n$ dimensional Hilbert Space.\n",
    "\n",
    "One of the steps involved in finding out the [expressibility](https://arxiv.org/abs/1905.10876) of a PQC is to randomly sample the states generated by the PQC.\n",
    "\n",
    "__In this exercise, we use this step of randomly sampling a PQC to benchmark the speedup offered by Qiskit Runtime.__"
   ]
  },
  {
   "cell_type": "code",
   "execution_count": 247,
   "id": "d0937303",
   "metadata": {},
   "outputs": [
    {
     "name": "stdout",
     "output_type": "stream",
     "text": [
      "Number of circuit parameters = 28\n"
     ]
    },
    {
     "data": {
      "image/png": "[encoded data removed]",
      "text/plain": [
       "<Figure size 1561.68x325.08 with 1 Axes>"
      ]
     },
     "execution_count": 247,
     "metadata": {},
     "output_type": "execute_result"
    }
   ],
   "source": [
    "def full_entanglement_rx(num_qubits, layers):\n",
    "    qubit_indices = range(num_qubits)\n",
    "    \n",
    "    entanglement = []\n",
    "    \n",
    "    num_parameters = (2*num_qubits + (num_qubits-1)*num_qubits + 2*num_qubits)*layers\n",
    "    \n",
    "    theta = ParameterVector('$\\Theta$', num_parameters)\n",
    "    theta_count = 0\n",
    "    \n",
    "    ansatz = QuantumCircuit(num_qubits)\n",
    "    \n",
    "    for layer in range(layers):\n",
    "        for qubit in qubit_indices:\n",
    "            ansatz.rx(theta=theta[theta_count], qubit=qubit, label='$R_{X}$')\n",
    "            ansatz.rz(phi=theta[theta_count+num_qubits], qubit=qubit)\n",
    "        \n",
    "            theta_count = theta_count + 1\n",
    "        theta_count = theta_count + num_qubits\n",
    "        \n",
    "        ansatz.barrier()\n",
    "    \n",
    "        for control_qubit in reversed(qubit_indices):\n",
    "            for target_qubit in reversed(qubit_indices):\n",
    "            \n",
    "                if target_qubit != control_qubit:\n",
    "                    ansatz.crx(theta=theta[theta_count], control_qubit=control_qubit, target_qubit=target_qubit)\n",
    "                    \n",
    "                    theta_count = theta_count + 1\n",
    "                \n",
    "        ansatz.barrier()\n",
    "    \n",
    "        for qubit in qubit_indices:\n",
    "            ansatz.rx(theta=theta[theta_count], qubit=qubit, label='$R_{X}$')\n",
    "            ansatz.rz(phi=theta[theta_count+num_qubits], qubit=qubit)\n",
    "        \n",
    "            theta_count = theta_count + 1\n",
    "        theta_count = theta_count + num_qubits\n",
    "        \n",
    "        ansatz.barrier()\n",
    "        \n",
    "    return ansatz\n",
    "\n",
    "circuit_rx = full_entanglement_rx(num_qubits=4, layers=1)\n",
    "\n",
    "# We need to specify the measure_all() instruction to use the Sampler Primitive\n",
    "circuit_rx.measure_all()\n",
    "\n",
    "circuit_rx.name = 'circuit_rx'\n",
    "\n",
    "num_params_rx = circuit_rx.num_parameters\n",
    "print(\"Number of circuit parameters =\", num_params_rx)\n",
    "\n",
    "circuit_rx.draw(output='mpl')"
   ]
  },
  {
   "cell_type": "code",
   "execution_count": 248,
   "id": "779503c5",
   "metadata": {},
   "outputs": [
    {
     "name": "stdout",
     "output_type": "stream",
     "text": [
      "Number of circuit parameters = 28\n"
     ]
    },
    {
     "data": {
      "image/png": "[encoded data removed]",
      "text/plain": [
       "<Figure size 1561.68x325.08 with 1 Axes>"
      ]
     },
     "execution_count": 248,
     "metadata": {},
     "output_type": "execute_result"
    }
   ],
   "source": [
    "def full_entanglement_rz(num_qubits, layers):\n",
    "    qubit_indices = range(num_qubits)\n",
    "    \n",
    "    entanglement = []\n",
    "    \n",
    "    num_parameters = (2*num_qubits + (num_qubits-1)*num_qubits + 2*num_qubits)*layers\n",
    "    \n",
    "    theta = ParameterVector('$\\Theta$', num_parameters)\n",
    "    theta_count = 0\n",
    "    \n",
    "    ansatz = QuantumCircuit(num_qubits)\n",
    "    \n",
    "    for layer in range(layers):\n",
    "        for qubit in qubit_indices:\n",
    "            ansatz.rx(theta=theta[theta_count], qubit=qubit, label='$R_{X}$')\n",
    "            ansatz.rz(phi=theta[theta_count+num_qubits], qubit=qubit)\n",
    "        \n",
    "            theta_count = theta_count + 1\n",
    "        theta_count = theta_count + num_qubits\n",
    "        \n",
    "        ansatz.barrier()\n",
    "    \n",
    "        for control_qubit in reversed(qubit_indices):\n",
    "            for target_qubit in reversed(qubit_indices):\n",
    "            \n",
    "                if target_qubit != control_qubit:\n",
    "                    ansatz.crz(theta=theta[theta_count], control_qubit=control_qubit, target_qubit=target_qubit)\n",
    "                    \n",
    "                    theta_count = theta_count + 1\n",
    "                \n",
    "        ansatz.barrier()\n",
    "    \n",
    "        for qubit in qubit_indices:\n",
    "            ansatz.rx(theta=theta[theta_count], qubit=qubit, label='$R_{X}$')\n",
    "            ansatz.rz(phi=theta[theta_count+num_qubits], qubit=qubit)\n",
    "        \n",
    "            theta_count = theta_count + 1\n",
    "        theta_count = theta_count + num_qubits\n",
    "        \n",
    "        ansatz.barrier()\n",
    "        \n",
    "    return ansatz\n",
    "\n",
    "circuit_rz = full_entanglement_rz(num_qubits=4, layers=1)\n",
    "\n",
    "# We need to specify the measure_all() instruction to use the Sampler Primitive\n",
    "circuit_rz.measure_all()\n",
    "\n",
    "circuit_rz.name = 'circuit_rz'\n",
    "\n",
    "num_params_rz = circuit_rz.num_parameters\n",
    "print(\"Number of circuit parameters =\", num_params_rz)\n",
    "\n",
    "circuit_rz.draw(output='mpl')"
   ]
  },
  {
   "cell_type": "code",
   "execution_count": 365,
   "id": "46d78eab",
   "metadata": {},
   "outputs": [],
   "source": [
    "backends = ['ibmq_qasm_simulator',\n",
    "            'ibmq_manila']"
   ]
  },
  {
   "cell_type": "code",
   "execution_count": 366,
   "id": "d41a10f2",
   "metadata": {},
   "outputs": [
    {
     "name": "stdout",
     "output_type": "stream",
     "text": [
      "Circuit 0 is circuit_rx \n",
      "\n",
      "Circuit 1 is circuit_rz \n",
      "\n"
     ]
    }
   ],
   "source": [
    "# Creating a list of circuits we want to run\n",
    "circuits = [circuit_rx, circuit_rz]\n",
    "circ_list_len = len(circuits)\n",
    "\n",
    "circuit_index = 0\n",
    "for circuit in circuits:\n",
    "    print(\"Circuit\", circuit_index, \"is\", circuit.name, \"\\n\")\n",
    "    \n",
    "    circuit_index += 1\n",
    "\n",
    "    \n",
    "# num_samples is the number of samples (or quasi-probability distributions) for each circuit\n",
    "# each 'sample' consists of 'shots' number of measurements \n",
    "num_samples = 20\n",
    "shots = 1024\n",
    "\n",
    "    \n",
    "# Choosing the backend and specifying number of shots\n",
    "backend_qasm = backends[0]\n",
    "backend_manila = backends[1]"
   ]
  },
  {
   "cell_type": "markdown",
   "id": "443fa744",
   "metadata": {},
   "source": [
    "__Qiskit Circuit Execution (qasm simulator)__"
   ]
  },
  {
   "cell_type": "code",
   "execution_count": 260,
   "id": "bed71319",
   "metadata": {},
   "outputs": [
    {
     "name": "stdout",
     "output_type": "stream",
     "text": [
      "Execution Time for 20 samples of circuit_rx = 275.8942549228668 seconds\n"
     ]
    }
   ],
   "source": [
    "backend_circ = provider.get_backend(backend_qasm)\n",
    "\n",
    "var = circuit_rx.parameters\n",
    "\n",
    "circuit_rx_transpiled = transpile(circuit_rx, backend=backend_circ)\n",
    "\n",
    "current_time = time.time()\n",
    "\n",
    "counts_rx = []\n",
    "for sample in range(num_samples):\n",
    "    circuit_rx_assigned = circuit_rx_transpiled.assign_parameters({var[i]: uniform(low=0.0, high=2*pi) for i in range(num_params_rx)}, inplace=False)\n",
    "    result_rx_qasm = execute(circuit_rx_assigned, backend=backend_circ, shots=shots).result()\n",
    "\n",
    "    counts_rx.append(result_rx_qasm.get_counts(circuit_rx_assigned))\n",
    "    \n",
    "execution_time_rx_qasm = time.time() - current_time\n",
    "\n",
    "print(\"Execution Time for\", num_samples, \"samples of circuit_rx =\", execution_time_rx_qasm, \"seconds\")"
   ]
  },
  {
   "cell_type": "code",
   "execution_count": 265,
   "id": "eafb9304",
   "metadata": {},
   "outputs": [
    {
     "name": "stdout",
     "output_type": "stream",
     "text": [
      "Execution Time for 20 samples of circuit_rz = 512.282044172287 seconds\n"
     ]
    }
   ],
   "source": [
    "backend_circ = provider.get_backend(backend_qasm)\n",
    "\n",
    "var = circuit_rz.parameters\n",
    "\n",
    "circuit_rz_transpiled = transpile(circuit_rz, backend=backend_circ)\n",
    "\n",
    "current_time = time.time()\n",
    "\n",
    "counts_rz = []\n",
    "for sample in range(num_samples):\n",
    "    circuit_rz_assigned = circuit_rz_transpiled.assign_parameters({var[i]: uniform(low=0.0, high=2*pi) for i in range(num_params_rz)}, inplace=False)\n",
    "    result_rz_qasm = execute(circuit_rz_assigned, backend=backend_circ, shots=shots).result()\n",
    "\n",
    "    counts_rz.append(result_rz_qasm.get_counts(circuit_rz_assigned))\n",
    "    \n",
    "execution_time_rz_qasm = time.time() - current_time\n",
    "\n",
    "print(\"Execution Time for\", num_samples, \"samples of circuit_rz =\", execution_time_rz_qasm, \"seconds\")"
   ]
  },
  {
   "cell_type": "markdown",
   "id": "e9aac434",
   "metadata": {},
   "source": [
    "__Qiskit Circuit Execution (ibmq_manila system)__"
   ]
  },
  {
   "cell_type": "code",
   "execution_count": 260,
   "id": "cc00dff8",
   "metadata": {
    "scrolled": true
   },
   "outputs": [
    {
     "name": "stdout",
     "output_type": "stream",
     "text": [
      "Execution Time for 20 samples of circuit_rx = 275.8942549228668 seconds\n"
     ]
    }
   ],
   "source": [
    "backend_circ = provider.get_backend(backend_manila)\n",
    "\n",
    "var = circuit_rx.parameters\n",
    "\n",
    "circuit_rx_transpiled = transpile(circuit_rx, backend=backend_circ)\n",
    "\n",
    "current_time = time.time()\n",
    "\n",
    "counts_rx = []\n",
    "for sample in range(num_samples):\n",
    "    circuit_rx_assigned = circuit_rx_transpiled.assign_parameters({var[i]: uniform(low=0.0, high=2*pi) for i in range(num_params_rx)}, inplace=False)\n",
    "    result_rx_manila = execute(circuit_rx_assigned, backend=backend_circ, shots=shots).result()\n",
    "\n",
    "    counts_rx.append(result_rx_manila.get_counts(circuit_rx_assigned))\n",
    "    \n",
    "execution_time_rx_manila = time.time() - current_time\n",
    "\n",
    "print(\"Execution Time for\", num_samples, \"samples of circuit_rx =\", execution_time_rx_manila, \"seconds\")"
   ]
  },
  {
   "cell_type": "code",
   "execution_count": 369,
   "id": "555b1cc1",
   "metadata": {},
   "outputs": [
    {
     "name": "stdout",
     "output_type": "stream",
     "text": [
      "Execution Time for 20 samples of circuit_rz = 1359.905534029007 seconds\n"
     ]
    }
   ],
   "source": [
    "backend_circ = provider.get_backend(backend_manila)\n",
    "\n",
    "var = circuit_rz.parameters\n",
    "\n",
    "circuit_rz_transpiled = transpile(circuit_rz, backend=backend_circ)\n",
    "\n",
    "current_time = time.time()\n",
    "\n",
    "counts_rz = []\n",
    "for sample in range(num_samples):\n",
    "    circuit_rz_assigned = circuit_rz_transpiled.assign_parameters({var[i]: uniform(low=0.0, high=2*pi) for i in range(num_params_rz)}, inplace=False)\n",
    "    result_rz_manila = execute(circuit_rz_assigned, backend=backend_circ, shots=shots).result()\n",
    "\n",
    "    counts_rz.append(result_rz_manila.get_counts(circuit_rz_assigned))\n",
    "    \n",
    "execution_time_rz_manila = time.time() - current_time\n",
    "\n",
    "print(\"Execution Time for\", num_samples, \"samples of circuit_rz =\", execution_time_rz_manila, \"seconds\")"
   ]
  },
  {
   "cell_type": "markdown",
   "id": "f07fd4fa",
   "metadata": {},
   "source": [
    "You can check the status and detailed information of all your __Circuit jobs__ [here](https://quantum-computing.ibm.com/jobs?jobs=circuit)!"
   ]
  },
  {
   "cell_type": "markdown",
   "id": "b2a26018",
   "metadata": {},
   "source": [
    "__Qiskit Runtime Sampler Execution (qasm simulator)__"
   ]
  },
  {
   "cell_type": "code",
   "execution_count": 245,
   "id": "3f5f5f23",
   "metadata": {},
   "outputs": [
    {
     "name": "stdout",
     "output_type": "stream",
     "text": [
      "Total Execution Time for 20 samples of both circuit_rx and circuit_rz = 9.460642099380493 seconds\n"
     ]
    }
   ],
   "source": [
    "# Creating a list of circuit indices to run\n",
    "# Here we are running 'Circuit 0', then 'Circuit 1' both 'num_samples' times\n",
    "\n",
    "circuit_indices = []\n",
    "for i in range(circ_list_len):\n",
    "    circuit_indices += [i]*num_samples\n",
    "\n",
    "# Creating list of uniform random Parameter Vectors\n",
    "# 'num_params_rx = num_params_rz' in this case\n",
    "theta = [[uniform(0, 2*pi) for param in range(num_params_rx)] for sample in range(num_samples*circ_list_len)]\n",
    "#print(theta)\n",
    "\n",
    "current_time = time.time()\n",
    "\n",
    "with Sampler(circuits=circuits, service=service, options={ \"backend\": backend_qasm}) as sampler:\n",
    "    # pass indices of circuits\n",
    "    result_sampler_qasm = sampler(circuits=circuit_indices, shots=shots, parameter_values=theta)\n",
    "    # print(result)\n",
    "    \n",
    "execution_time_sampler_qasm = time.time() - current_time\n",
    "\n",
    "print(\"Total Execution Time for\", num_samples, \"samples of both circuit_rx and circuit_rz =\", execution_time_sampler_qasm, \"seconds\")"
   ]
  },
  {
   "cell_type": "markdown",
   "id": "c4a1eca8",
   "metadata": {},
   "source": [
    "__Qiskit Runtime Sampler Execution (ibmq_manila system)__"
   ]
  },
  {
   "cell_type": "code",
   "execution_count": 277,
   "id": "c03f7016",
   "metadata": {},
   "outputs": [
    {
     "name": "stdout",
     "output_type": "stream",
     "text": [
      "Total Execution Time for 20 samples of both circuit_rx and circuit_rz = 41.106927156448364 seconds\n"
     ]
    }
   ],
   "source": [
    "# Creating a list of circuit indices to run\n",
    "# Here we are running 'Circuit 0', then 'Circuit 1' both 'num_samples' times\n",
    "\n",
    "circuit_indices = []\n",
    "for i in range(circ_list_len):\n",
    "    circuit_indices += [i]*num_samples\n",
    "\n",
    "# Creating list of uniform random Parameter Vectors\n",
    "# 'num_params_rx = num_params_rz' in this case\n",
    "\n",
    "theta = [[uniform(0, 2*pi) for param in range(num_params_rx)] for sample in range(num_samples*circ_list_len)]\n",
    "#print(theta)\n",
    "\n",
    "current_time = time.time()\n",
    "\n",
    "with Sampler(circuits=circuits, service=service, options={ \"backend\": backend_manila}) as sampler:\n",
    "    # pass indices of circuits\n",
    "    result_sampler_manila = sampler(circuits=circuit_indices, shots=shots, parameter_values=theta)\n",
    "    # print(result)\n",
    "    \n",
    "execution_time_sampler_manila = time.time() - current_time\n",
    "\n",
    "print(\"Total Execution Time for\", num_samples, \"samples of both circuit_rx and circuit_rz =\", execution_time_sampler_manila, \"seconds\")"
   ]
  },
  {
   "cell_type": "markdown",
   "id": "976bc64b",
   "metadata": {},
   "source": [
    "You can check the status and detailed information of all your Runtime or __Program jobs__ [here](https://quantum-computing.ibm.com/jobs?jobs=runtime)!"
   ]
  },
  {
   "cell_type": "markdown",
   "id": "b8fc61d7",
   "metadata": {},
   "source": [
    "__Comparing execution times to observe speedup from Qiskit Rumtime Sampler Primitive__\n",
    "\n",
    "We define ___speedup___ as the ratio of the __Execution time for circuit execution__ to the __Execution time in Runtime Sampler Primitive__, for a specified backend for circuit_rx and circuit_rz."
   ]
  },
  {
   "cell_type": "markdown",
   "id": "9c5d366a",
   "metadata": {},
   "source": [
    "__Qiskit Circuit Execution using the following backends:__\n",
    "* __qasm simulator__"
   ]
  },
  {
   "cell_type": "code",
   "execution_count": 303,
   "id": "feddd5cf",
   "metadata": {},
   "outputs": [
    {
     "name": "stdout",
     "output_type": "stream",
     "text": [
      "Execution Time for 20 samples of circuit_rx = 275.8942549228668 seconds\n",
      "Execution Time for 20 samples of circuit_rz = 512.282044172287 seconds\n",
      "\n",
      "Combined Execution Time =  788.1762990951538 seconds = 13.136271651585897 minutes\n"
     ]
    }
   ],
   "source": [
    "print(\"Execution Time for\", num_samples, \"samples of circuit_rx =\", execution_time_rx_qasm, \"seconds\")\n",
    "print(\"Execution Time for\", num_samples, \"samples of circuit_rz =\", execution_time_rz_qasm, \"seconds\")\n",
    "\n",
    "total_time_qasm = execution_time_rx_qasm + execution_time_rz_qasm\n",
    "print(\"\\nCombined Execution Time = \", total_time_qasm, \"seconds =\", total_time_qasm/60, \"minutes\")"
   ]
  },
  {
   "cell_type": "markdown",
   "id": "1b861232",
   "metadata": {},
   "source": [
    "* __ibmq_manila system__"
   ]
  },
  {
   "cell_type": "code",
   "execution_count": 385,
   "id": "48b64b70",
   "metadata": {},
   "outputs": [
    {
     "name": "stdout",
     "output_type": "stream",
     "text": [
      "Execution Time for 20 samples of circuit_rx = 275.8942549228668 seconds\n",
      "Execution Time for 20 samples of circuit_rz = 1359.905534029007 seconds\n",
      "\n",
      "Combined Execution Time =  1635.7997889518738 seconds = 27.263329815864562 minutes\n"
     ]
    }
   ],
   "source": [
    "print(\"Execution Time for\", num_samples, \"samples of circuit_rx =\", execution_time_rx_manila, \"seconds\")\n",
    "print(\"Execution Time for\", num_samples, \"samples of circuit_rz =\", execution_time_rz_manila, \"seconds\")\n",
    "\n",
    "total_time_manila = execution_time_rx_manila + execution_time_rz_manila\n",
    "print(\"\\nCombined Execution Time = \", total_time_manila, \"seconds =\", total_time_manila/60, \"minutes\")"
   ]
  },
  {
   "cell_type": "markdown",
   "id": "2e726dd6",
   "metadata": {},
   "source": [
    "__Qiskit Runtime Sampler Execution using the following backends:__\n",
    "* __qasm simulator__"
   ]
  },
  {
   "cell_type": "code",
   "execution_count": 397,
   "id": "1ab89fcd",
   "metadata": {},
   "outputs": [
    {
     "name": "stdout",
     "output_type": "stream",
     "text": [
      "Execution Time for 20 samples of both circuit_rx & circuit_rz = 9.460642099380493 seconds\n",
      "\n",
      "As compared to 788.1762990951538 seconds for \"traditional\" circuit execution on qasm.\n",
      "\n",
      "Therefore, a speedup of about 83x!\n"
     ]
    }
   ],
   "source": [
    "print(\"Execution Time for\", num_samples, \"samples of both circuit_rx & circuit_rz =\", execution_time_sampler_qasm, \"seconds\")\n",
    "\n",
    "print(\"\\nAs compared to\", total_time_qasm, \"seconds for \\\"traditional\\\" circuit execution on qasm.\")\n",
    "\n",
    "print(\"\\nTherefore, a speedup of about \" + str(round(total_time_qasm/execution_time_sampler_qasm)) + \"x!\")"
   ]
  },
  {
   "cell_type": "markdown",
   "id": "b9497b45",
   "metadata": {},
   "source": [
    "* __ibmq_manila system__"
   ]
  },
  {
   "cell_type": "code",
   "execution_count": 399,
   "id": "048ad44c",
   "metadata": {},
   "outputs": [
    {
     "name": "stdout",
     "output_type": "stream",
     "text": [
      "Execution Time for 20 samples of both circuit_rx & circuit_rz = 41.106927156448364 seconds\n",
      "\n",
      "As compared to 1635.7997889518738 seconds for \"traditional\" circuit execution on qasm.\n",
      "\n",
      "Therefore, a speedup of about 40x!\n"
     ]
    }
   ],
   "source": [
    "print(\"Execution Time for\", num_samples, \"samples of both circuit_rx & circuit_rz =\", execution_time_sampler_manila, \"seconds\")\n",
    "\n",
    "print(\"\\nAs compared to\", total_time_manila, \"seconds for \\\"traditional\\\" circuit execution on qasm.\")\n",
    "\n",
    "print(\"\\nTherefore, a speedup of about \" + str(round(total_time_manila/execution_time_sampler_manila)) + \"x!\")"
   ]
  },
  {
   "cell_type": "markdown",
   "id": "05d5977b",
   "metadata": {},
   "source": [
    "#### [The Estimator Primitive](https://quantum-computing.ibm.com/services?services=runtime&program=estimator)\n",
    "__Returns the expectation value of quantum operators with respect to the states obtained from the measurement outcomes (samplings) of quantum circuits.__"
   ]
  },
  {
   "cell_type": "markdown",
   "id": "288b5f26",
   "metadata": {},
   "source": [
    "The exepectation value of an observable described by some $2^{n} \\times 2^{n}$ Hermitian operator ($H$) is defined with respect to an n-qubit quantum state $\\big(| \\psi \\rangle \\big)$ as follows:\n",
    "\n",
    "$ \\langle H \\rangle = \\langle \\psi | H | \\psi \\rangle$\n",
    "\n",
    "$|\\psi\\rangle$ may be parameterized. Therefore, $|\\psi\\rangle := |\\psi(\\theta)\\rangle$ in general, where $\\theta$ is a vector of parameters."
   ]
  },
  {
   "cell_type": "markdown",
   "id": "ee693f83",
   "metadata": {},
   "source": [
    "Evaluating $ \\langle H \\rangle $ on a quantum circuit is not as straightforward as it appears mathematically.\n",
    "\n",
    "The operator ($H$) needs to be decompsed into [___Pauli Strings___](https://qiskit.org/documentation/stubs/qiskit.quantum_info.Pauli.html). \n",
    "\n",
    "Pauli String: $P_{P_{n-1} , ... , P_{0}}^{q} = (-i)^{q} P_{n-1} \\otimes ... \\otimes P_{0}$ where $q \\in \\mathbb{Z}_{4}$ and $P_{i} \\in \\{ I, X, Y, Z \\}$\n",
    "\n",
    "Therefore, $H = \\sum_{q = 0}^{4} \\sum_{i = 0}^{4^{n}} w_{i}^{q} P_{P_{n-1} , ... , P_{0}}^{q}$\n",
    "\n",
    "\n",
    "The measurements then need to be performed in different bases (as characterised by each Pauli String), to get the expectation values of these Pauli Strings.\n",
    "\n",
    "Finally, the results need to be combined taking into account the weights ($w_{i}^{q}$) of each Pauli Strings to obtain $\\langle H \\rangle$."
   ]
  },
  {
   "cell_type": "markdown",
   "id": "2083d246",
   "metadata": {},
   "source": [
    "__The Estimator Program Primitve__ in Qiskit Runtime abstracts away the Pauli String decomposition and recombination from the user, since details for these calculations are defined and standardized by the Estimator."
   ]
  },
  {
   "cell_type": "markdown",
   "id": "ba34b555",
   "metadata": {},
   "source": [
    "Example from [here](https://quantum-computing.ibm.com/services?services=runtime&program=estimator)."
   ]
  },
  {
   "cell_type": "code",
   "execution_count": 404,
   "id": "1ed00aec",
   "metadata": {},
   "outputs": [],
   "source": [
    "psi1 = RealAmplitudes(num_qubits=2, reps=2)\n",
    "psi2 = RealAmplitudes(num_qubits=2, reps=3)\n",
    "\n",
    "H1 = SparsePauliOp.from_list([(\"II\", 1), (\"IZ\", 2), (\"XI\", 3)])\n",
    "H2 = SparsePauliOp.from_list([(\"IZ\", 1)])\n",
    "H3 = SparsePauliOp.from_list([(\"ZI\", 1), (\"ZZ\", 1)])"
   ]
  },
  {
   "cell_type": "code",
   "execution_count": 406,
   "id": "301aa56a",
   "metadata": {},
   "outputs": [
    {
     "data": {
      "image/png": "[encoded data removed]",
      "text/plain": [
       "<Figure size 387.452x144.48 with 1 Axes>"
      ]
     },
     "execution_count": 406,
     "metadata": {},
     "output_type": "execute_result"
    }
   ],
   "source": [
    "psi1.decompose().draw(output='mpl')"
   ]
  },
  {
   "cell_type": "code",
   "execution_count": 407,
   "id": "d550a0b8",
   "metadata": {},
   "outputs": [
    {
     "data": {
      "image/png": "[encoded data removed]",
      "text/plain": [
       "<Figure size 507.852x144.48 with 1 Axes>"
      ]
     },
     "execution_count": 407,
     "metadata": {},
     "output_type": "execute_result"
    }
   ],
   "source": [
    "psi2.decompose().draw(output='mpl')"
   ]
  },
  {
   "cell_type": "code",
   "execution_count": 428,
   "id": "09f4d7a8",
   "metadata": {},
   "outputs": [],
   "source": [
    "with Estimator(circuits=[psi1, psi2],\n",
    "               observables=[H1, H2, H3],\n",
    "               service=service,\n",
    "               options={ \"backend\": \"ibmq_qasm_simulator\" }) as estimator:\n",
    "    \n",
    "    theta1 = [0, 1, 1, 2, 3, 5]\n",
    "    theta2 = [0, 1, 1, 2, 3, 5, 8, 13]\n",
    "    theta3 = [1, 2, 3, 4, 5, 6]\n",
    "\n",
    "    # calculate [ <psi1(theta1)|H1|psi1(theta1)>,\n",
    "    #             <psi2(theta2)|H2|psi2(theta2)>,\n",
    "    #             <psi1(theta3)|H3|psi1(theta3)> ]\n",
    "    \n",
    "    psi12_H23_result = estimator(circuits=[0, 1, 0], observables=[0, 1, 2], parameter_values=[theta1, theta2, theta3])\n",
    "    \n",
    "    # print(psi12_H23_result)"
   ]
  },
  {
   "cell_type": "markdown",
   "id": "00086d53",
   "metadata": {},
   "source": [
    "Therefore, $ \\langle H_{1} \\rangle = \\langle \\psi_{1}(\\theta_{1})|H_{1}| \\psi_{1}(\\theta_{1}) \\rangle$"
   ]
  },
  {
   "cell_type": "code",
   "execution_count": 429,
   "id": "324ce87f",
   "metadata": {},
   "outputs": [
    {
     "name": "stdout",
     "output_type": "stream",
     "text": [
      "<H1> = 1.58203125\n"
     ]
    }
   ],
   "source": [
    "print(\"<H1> =\", psi12_H23_result.values[0])"
   ]
  },
  {
   "cell_type": "markdown",
   "id": "ed86451b",
   "metadata": {},
   "source": [
    "Therefore, $ \\langle H_{2} \\rangle = \\langle \\psi_{2}(\\theta_{2})|H_{2}| \\psi_{2}(\\theta_{2}) \\rangle$"
   ]
  },
  {
   "cell_type": "code",
   "execution_count": 430,
   "id": "5d7f1e88",
   "metadata": {},
   "outputs": [
    {
     "name": "stdout",
     "output_type": "stream",
     "text": [
      "<H2> = 0.1953125\n"
     ]
    }
   ],
   "source": [
    "print(\"<H2> =\", psi12_H23_result.values[1])"
   ]
  },
  {
   "cell_type": "markdown",
   "id": "f7d252ac",
   "metadata": {},
   "source": [
    "Therefore, $ \\langle H_{3} \\rangle = \\langle \\psi_{1}(\\theta_{3})|H_{3}| \\psi_{1}(\\theta_{3}) \\rangle$"
   ]
  },
  {
   "cell_type": "code",
   "execution_count": 431,
   "id": "ece058de",
   "metadata": {},
   "outputs": [
    {
     "name": "stdout",
     "output_type": "stream",
     "text": [
      "<H3> = -1.12109375\n"
     ]
    }
   ],
   "source": [
    "print(\"<H3> =\", psi12_H23_result.values[2])"
   ]
  },
  {
   "cell_type": "markdown",
   "id": "5a8b51d2",
   "metadata": {},
   "source": [
    "### Thank you ... !"
   ]
  },
  {
   "cell_type": "code",
   "execution_count": 432,
   "id": "9b0af569",
   "metadata": {},
   "outputs": [
    {
     "data": {
      "text/plain": [
       "'0.5.0'"
      ]
     },
     "execution_count": 432,
     "metadata": {},
     "output_type": "execute_result"
    }
   ],
   "source": [
    "import qiskit_ibm_runtime\n",
    "qiskit_ibm_runtime.version.get_version_info()"
   ]
  },
  {
   "cell_type": "code",
   "execution_count": 433,
   "id": "bd634961",
   "metadata": {},
   "outputs": [
    {
     "data": {
      "text/html": [
       "<h3>Version Information</h3><table><tr><th>Qiskit Software</th><th>Version</th></tr><tr><td><code>qiskit-terra</code></td><td>0.20.2</td></tr><tr><td><code>qiskit-aer</code></td><td>0.10.4</td></tr><tr><td><code>qiskit-ignis</code></td><td>0.7.1</td></tr><tr><td><code>qiskit-ibmq-provider</code></td><td>0.19.1</td></tr><tr><td><code>qiskit-aqua</code></td><td>0.9.5</td></tr><tr><td><code>qiskit</code></td><td>0.36.2</td></tr><tr><th>System information</th></tr><tr><td>Python version</td><td>3.9.12</td></tr><tr><td>Python compiler</td><td>Clang 12.0.0 </td></tr><tr><td>Python build</td><td>main, Apr  5 2022 01:53:17</td></tr><tr><td>OS</td><td>Darwin</td></tr><tr><td>CPUs</td><td>8</td></tr><tr><td>Memory (Gb)</td><td>32.0</td></tr><tr><td colspan='2'>Wed Jun 29 02:52:04 2022 IST</td></tr></table>"
      ],
      "text/plain": [
       "<IPython.core.display.HTML object>"
      ]
     },
     "metadata": {},
     "output_type": "display_data"
    },
    {
     "name": "stderr",
     "output_type": "stream",
     "text": [
      "runtime_job._start_websocket_client:WARNING:2022-06-29 07:13:18,850: An error occurred while streaming results from the server for job catj4k9ihlmte2bv1usg:\n",
      "Traceback (most recent call last):\n",
      "  File \"/Users/rajiv/opt/anaconda3/lib/python3.9/site-packages/qiskit_ibm_runtime/runtime_job.py\", line 402, in _start_websocket_client\n",
      "    self._ws_client.job_results()\n",
      "  File \"/Users/rajiv/opt/anaconda3/lib/python3.9/site-packages/qiskit_ibm_runtime/api/clients/runtime_ws.py\", line 70, in job_results\n",
      "    self.stream(url=url, retries=max_retries, backoff_factor=backoff_factor)\n",
      "  File \"/Users/rajiv/opt/anaconda3/lib/python3.9/site-packages/qiskit_ibm_runtime/api/clients/base.py\", line 230, in stream\n",
      "    raise WebsocketError(error_message)\n",
      "qiskit_ibm_runtime.api.exceptions.WebsocketError: 'Max retries exceeded: Failed to establish a websocket connection. Error: Traceback (most recent call last):\\n  File \"/Users/rajiv/opt/anaconda3/lib/python3.9/site-packages/websocket/_socket.py\", line 108, in recv\\n    bytes_ = _recv()\\n  File \"/Users/rajiv/opt/anaconda3/lib/python3.9/site-packages/websocket/_socket.py\", line 87, in _recv\\n    return sock.recv(bufsize)\\n  File \"/Users/rajiv/opt/anaconda3/lib/python3.9/ssl.py\", line 1226, in recv\\n    return self.read(buflen)\\n  File \"/Users/rajiv/opt/anaconda3/lib/python3.9/ssl.py\", line 1101, in read\\n    return self._sslobj.read(len)\\nTimeoutError: [Errno 60] Operation timed out\\n\\nDuring handling of the above exception, another exception occurred:\\n\\nTraceback (most recent call last):\\n  File \"/Users/rajiv/opt/anaconda3/lib/python3.9/site-packages/websocket/_app.py\", line 383, in run_forever\\n    dispatcher.read(self.sock.sock, read, check)\\n  File \"/Users/rajiv/opt/anaconda3/lib/python3.9/site-packages/websocket/_app.py\", line 66, in read\\n    if not read_callback():\\n  File \"/Users/rajiv/opt/anaconda3/lib/python3.9/site-packages/websocket/_app.py\", line 349, in read\\n    op_code, frame = self.sock.recv_data_frame(True)\\n  File \"/Users/rajiv/opt/anaconda3/lib/python3.9/site-packages/websocket/_core.py\", line 401, in recv_data_frame\\n    frame = self.recv_frame()\\n  File \"/Users/rajiv/opt/anaconda3/lib/python3.9/site-packages/websocket/_core.py\", line 440, in recv_frame\\n    return self.frame_buffer.recv_frame()\\n  File \"/Users/rajiv/opt/anaconda3/lib/python3.9/site-packages/websocket/_abnf.py\", line 338, in recv_frame\\n    self.recv_header()\\n  File \"/Users/rajiv/opt/anaconda3/lib/python3.9/site-packages/websocket/_abnf.py\", line 294, in recv_header\\n    header = self.recv_strict(2)\\n  File \"/Users/rajiv/opt/anaconda3/lib/python3.9/site-packages/websocket/_abnf.py\", line 373, in recv_strict\\n    bytes_ = self.recv(min(16384, shortage))\\n  File \"/Users/rajiv/opt/anaconda3/lib/python3.9/site-packages/websocket/_core.py\", line 524, in _recv\\n    return recv(self.sock, bufsize)\\n  File \"/Users/rajiv/opt/anaconda3/lib/python3.9/site-packages/websocket/_socket.py\", line 110, in recv\\n    raise WebSocketTimeoutException(\"Connection timed out\")\\nwebsocket._exceptions.WebSocketTimeoutException: Connection timed out\\n'\n",
      "\n"
     ]
    }
   ],
   "source": [
    "import qiskit.tools.jupyter\n",
    "\n",
    "%qiskit_version_table"
   ]
  }
 ],
 "metadata": {
  "kernelspec": {
   "display_name": "Python 3 (ipykernel)",
   "language": "python",
   "name": "python3"
  },
  "language_info": {
   "codemirror_mode": {
    "name": "ipython",
    "version": 3
   },
   "file_extension": ".py",
   "mimetype": "text/x-python",
   "name": "python",
   "nbconvert_exporter": "python",
   "pygments_lexer": "ipython3",
   "version": "3.9.12"
  }
 },
 "nbformat": 4,
 "nbformat_minor": 5
}
